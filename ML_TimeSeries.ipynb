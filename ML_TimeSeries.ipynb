{
  "nbformat": 4,
  "nbformat_minor": 0,
  "metadata": {
    "kernelspec": {
      "display_name": "Python 3",
      "language": "python",
      "name": "python3"
    },
    "language_info": {
      "codemirror_mode": {
        "name": "ipython",
        "version": 3
      },
      "file_extension": ".py",
      "mimetype": "text/x-python",
      "name": "python",
      "nbconvert_exporter": "python",
      "pygments_lexer": "ipython3",
      "version": "3.8.5"
    },
    "colab": {
      "name": "Final_ML.ipynb",
      "provenance": []
    }
  },
  "cells": [
    {
      "cell_type": "code",
      "metadata": {
        "id": "RlXIrEFB3zDh"
      },
      "source": [
        "from tensorflow.keras import layers\n",
        "from tensorflow.keras import models\n",
        "from tensorflow.keras.utils import to_categorical\n",
        "from tensorflow import keras\n",
        "import matplotlib.pyplot as plt        \n",
        "import numpy as np\n",
        "import tensorflow as tf\n",
        "# from tf.keras.callbacks import CSVLogger"
      ],
      "execution_count": 1,
      "outputs": []
    },
    {
      "cell_type": "code",
      "metadata": {
        "id": "QteI3NEz3zDk"
      },
      "source": [
        "import pandas as pd\n",
        "df= pd.read_csv(\"POP.csv\")"
      ],
      "execution_count": 2,
      "outputs": []
    },
    {
      "cell_type": "code",
      "metadata": {
        "colab": {
          "base_uri": "https://localhost:8080/",
          "height": 202
        },
        "id": "XbTENnk53zDm",
        "outputId": "82a1c83f-a203-4f2b-cf34-0930cd8f9bd8"
      },
      "source": [
        "df.head()"
      ],
      "execution_count": 3,
      "outputs": [
        {
          "output_type": "execute_result",
          "data": {
            "text/html": [
              "<div>\n",
              "<style scoped>\n",
              "    .dataframe tbody tr th:only-of-type {\n",
              "        vertical-align: middle;\n",
              "    }\n",
              "\n",
              "    .dataframe tbody tr th {\n",
              "        vertical-align: top;\n",
              "    }\n",
              "\n",
              "    .dataframe thead th {\n",
              "        text-align: right;\n",
              "    }\n",
              "</style>\n",
              "<table border=\"1\" class=\"dataframe\">\n",
              "  <thead>\n",
              "    <tr style=\"text-align: right;\">\n",
              "      <th></th>\n",
              "      <th>realtime_start</th>\n",
              "      <th>value</th>\n",
              "      <th>date</th>\n",
              "      <th>realtime_end</th>\n",
              "    </tr>\n",
              "  </thead>\n",
              "  <tbody>\n",
              "    <tr>\n",
              "      <th>0</th>\n",
              "      <td>2019-12-06</td>\n",
              "      <td>156309.0</td>\n",
              "      <td>1952-01-01</td>\n",
              "      <td>2019-12-06</td>\n",
              "    </tr>\n",
              "    <tr>\n",
              "      <th>1</th>\n",
              "      <td>2019-12-06</td>\n",
              "      <td>156527.0</td>\n",
              "      <td>1952-02-01</td>\n",
              "      <td>2019-12-06</td>\n",
              "    </tr>\n",
              "    <tr>\n",
              "      <th>2</th>\n",
              "      <td>2019-12-06</td>\n",
              "      <td>156731.0</td>\n",
              "      <td>1952-03-01</td>\n",
              "      <td>2019-12-06</td>\n",
              "    </tr>\n",
              "    <tr>\n",
              "      <th>3</th>\n",
              "      <td>2019-12-06</td>\n",
              "      <td>156943.0</td>\n",
              "      <td>1952-04-01</td>\n",
              "      <td>2019-12-06</td>\n",
              "    </tr>\n",
              "    <tr>\n",
              "      <th>4</th>\n",
              "      <td>2019-12-06</td>\n",
              "      <td>157140.0</td>\n",
              "      <td>1952-05-01</td>\n",
              "      <td>2019-12-06</td>\n",
              "    </tr>\n",
              "  </tbody>\n",
              "</table>\n",
              "</div>"
            ],
            "text/plain": [
              "  realtime_start     value        date realtime_end\n",
              "0     2019-12-06  156309.0  1952-01-01   2019-12-06\n",
              "1     2019-12-06  156527.0  1952-02-01   2019-12-06\n",
              "2     2019-12-06  156731.0  1952-03-01   2019-12-06\n",
              "3     2019-12-06  156943.0  1952-04-01   2019-12-06\n",
              "4     2019-12-06  157140.0  1952-05-01   2019-12-06"
            ]
          },
          "metadata": {
            "tags": []
          },
          "execution_count": 3
        }
      ]
    },
    {
      "cell_type": "code",
      "metadata": {
        "id": "awDk82yQ3zDm"
      },
      "source": [
        "df_value= pd.DataFrame(df['value'])"
      ],
      "execution_count": 4,
      "outputs": []
    },
    {
      "cell_type": "code",
      "metadata": {
        "id": "1C9MOddJ3zDn"
      },
      "source": [
        "df_value.index = pd.to_datetime(df['date'])"
      ],
      "execution_count": 5,
      "outputs": []
    },
    {
      "cell_type": "code",
      "metadata": {
        "colab": {
          "base_uri": "https://localhost:8080/"
        },
        "id": "diKklu9j3zDn",
        "outputId": "5a9b8b43-e539-45cd-b3ca-a40f02b874e9"
      },
      "source": [
        "df_value.index"
      ],
      "execution_count": 6,
      "outputs": [
        {
          "output_type": "execute_result",
          "data": {
            "text/plain": [
              "DatetimeIndex(['1952-01-01', '1952-02-01', '1952-03-01', '1952-04-01',\n",
              "               '1952-05-01', '1952-06-01', '1952-07-01', '1952-08-01',\n",
              "               '1952-09-01', '1952-10-01',\n",
              "               ...\n",
              "               '2019-03-01', '2019-04-01', '2019-05-01', '2019-06-01',\n",
              "               '2019-07-01', '2019-08-01', '2019-09-01', '2019-10-01',\n",
              "               '2019-11-01', '2019-12-01'],\n",
              "              dtype='datetime64[ns]', name='date', length=816, freq=None)"
            ]
          },
          "metadata": {
            "tags": []
          },
          "execution_count": 6
        }
      ]
    },
    {
      "cell_type": "code",
      "metadata": {
        "colab": {
          "base_uri": "https://localhost:8080/",
          "height": 233
        },
        "id": "LsrDwNK93zDo",
        "outputId": "22d63b53-8fab-4fd0-d6ce-4ec8f40886ac"
      },
      "source": [
        "df_value.head()"
      ],
      "execution_count": 7,
      "outputs": [
        {
          "output_type": "execute_result",
          "data": {
            "text/html": [
              "<div>\n",
              "<style scoped>\n",
              "    .dataframe tbody tr th:only-of-type {\n",
              "        vertical-align: middle;\n",
              "    }\n",
              "\n",
              "    .dataframe tbody tr th {\n",
              "        vertical-align: top;\n",
              "    }\n",
              "\n",
              "    .dataframe thead th {\n",
              "        text-align: right;\n",
              "    }\n",
              "</style>\n",
              "<table border=\"1\" class=\"dataframe\">\n",
              "  <thead>\n",
              "    <tr style=\"text-align: right;\">\n",
              "      <th></th>\n",
              "      <th>value</th>\n",
              "    </tr>\n",
              "    <tr>\n",
              "      <th>date</th>\n",
              "      <th></th>\n",
              "    </tr>\n",
              "  </thead>\n",
              "  <tbody>\n",
              "    <tr>\n",
              "      <th>1952-01-01</th>\n",
              "      <td>156309.0</td>\n",
              "    </tr>\n",
              "    <tr>\n",
              "      <th>1952-02-01</th>\n",
              "      <td>156527.0</td>\n",
              "    </tr>\n",
              "    <tr>\n",
              "      <th>1952-03-01</th>\n",
              "      <td>156731.0</td>\n",
              "    </tr>\n",
              "    <tr>\n",
              "      <th>1952-04-01</th>\n",
              "      <td>156943.0</td>\n",
              "    </tr>\n",
              "    <tr>\n",
              "      <th>1952-05-01</th>\n",
              "      <td>157140.0</td>\n",
              "    </tr>\n",
              "  </tbody>\n",
              "</table>\n",
              "</div>"
            ],
            "text/plain": [
              "               value\n",
              "date                \n",
              "1952-01-01  156309.0\n",
              "1952-02-01  156527.0\n",
              "1952-03-01  156731.0\n",
              "1952-04-01  156943.0\n",
              "1952-05-01  157140.0"
            ]
          },
          "metadata": {
            "tags": []
          },
          "execution_count": 7
        }
      ]
    },
    {
      "cell_type": "code",
      "metadata": {
        "colab": {
          "base_uri": "https://localhost:8080/",
          "height": 294
        },
        "id": "me8RGfE33zDo",
        "outputId": "ee6211b4-f8f6-4814-e699-26bfd5c51627"
      },
      "source": [
        "df_value.describe()"
      ],
      "execution_count": 8,
      "outputs": [
        {
          "output_type": "execute_result",
          "data": {
            "text/html": [
              "<div>\n",
              "<style scoped>\n",
              "    .dataframe tbody tr th:only-of-type {\n",
              "        vertical-align: middle;\n",
              "    }\n",
              "\n",
              "    .dataframe tbody tr th {\n",
              "        vertical-align: top;\n",
              "    }\n",
              "\n",
              "    .dataframe thead th {\n",
              "        text-align: right;\n",
              "    }\n",
              "</style>\n",
              "<table border=\"1\" class=\"dataframe\">\n",
              "  <thead>\n",
              "    <tr style=\"text-align: right;\">\n",
              "      <th></th>\n",
              "      <th>value</th>\n",
              "    </tr>\n",
              "  </thead>\n",
              "  <tbody>\n",
              "    <tr>\n",
              "      <th>count</th>\n",
              "      <td>816.000000</td>\n",
              "    </tr>\n",
              "    <tr>\n",
              "      <th>mean</th>\n",
              "      <td>243847.767826</td>\n",
              "    </tr>\n",
              "    <tr>\n",
              "      <th>std</th>\n",
              "      <td>50519.140567</td>\n",
              "    </tr>\n",
              "    <tr>\n",
              "      <th>min</th>\n",
              "      <td>156309.000000</td>\n",
              "    </tr>\n",
              "    <tr>\n",
              "      <th>25%</th>\n",
              "      <td>201725.250000</td>\n",
              "    </tr>\n",
              "    <tr>\n",
              "      <th>50%</th>\n",
              "      <td>239557.500000</td>\n",
              "    </tr>\n",
              "    <tr>\n",
              "      <th>75%</th>\n",
              "      <td>289364.250000</td>\n",
              "    </tr>\n",
              "    <tr>\n",
              "      <th>max</th>\n",
              "      <td>330309.946000</td>\n",
              "    </tr>\n",
              "  </tbody>\n",
              "</table>\n",
              "</div>"
            ],
            "text/plain": [
              "               value\n",
              "count     816.000000\n",
              "mean   243847.767826\n",
              "std     50519.140567\n",
              "min    156309.000000\n",
              "25%    201725.250000\n",
              "50%    239557.500000\n",
              "75%    289364.250000\n",
              "max    330309.946000"
            ]
          },
          "metadata": {
            "tags": []
          },
          "execution_count": 8
        }
      ]
    },
    {
      "cell_type": "code",
      "metadata": {
        "colab": {
          "base_uri": "https://localhost:8080/",
          "height": 433
        },
        "id": "mJ9rQSiB3zDo",
        "outputId": "51766090-d9a2-4da4-a663-dda036ed9147"
      },
      "source": [
        "from pandas.plotting import register_matplotlib_converters\n",
        "register_matplotlib_converters()\n",
        "\n",
        "plt.figure(figsize=(8, 6))\n",
        "plt.plot(df_value, color='g')\n",
        "plt.title('Dan so', weight='bold', fontsize=16)\n",
        "plt.xlabel('Time', weight='bold', fontsize=14)\n",
        "plt.ylabel('Value', weight='bold', fontsize=14)\n",
        "plt.xticks(weight='bold', fontsize=12, rotation=45)\n",
        "plt.yticks(weight='bold', fontsize=12)\n",
        "plt.grid(color = 'y', linewidth = 0.5)"
      ],
      "execution_count": 9,
      "outputs": [
        {
          "output_type": "display_data",
          "data": {
            "image/png": "[encoded data removed]",
            "text/plain": [
              "<Figure size 576x432 with 1 Axes>"
            ]
          },
          "metadata": {
            "tags": [],
            "needs_background": "light"
          }
        }
      ]
    },
    {
      "cell_type": "code",
      "metadata": {
        "id": "v7Ndv3x63zDp"
      },
      "source": [
        "def create_regressor_attributes(df, attribute, list_of_prev_t_instants) :\n",
        "    \n",
        "    \"\"\"\n",
        "    Ensure that the index is of datetime type\n",
        "    Creates features with previous time instant values\n",
        "    \"\"\"\n",
        "        \n",
        "    list_of_prev_t_instants.sort()\n",
        "    start = list_of_prev_t_instants[-1] \n",
        "    end = len(df)\n",
        "    df['datetime'] = df.index\n",
        "    df.reset_index(drop=True)\n",
        "\n",
        "    df_copy = df[start:end]\n",
        "    df_copy.reset_index(inplace=True, drop=True)\n",
        "\n",
        "    for attribute in attribute :\n",
        "            foobar = pd.DataFrame()\n",
        "\n",
        "            for prev_t in list_of_prev_t_instants :\n",
        "                new_col = pd.DataFrame(df[attribute].iloc[(start - prev_t) : (end - prev_t)])\n",
        "                new_col.reset_index(drop=True, inplace=True)\n",
        "                new_col.rename(columns={attribute : '{}_(t-{})'.format(attribute, prev_t)}, inplace=True)\n",
        "                foobar = pd.concat([foobar, new_col], sort=False, axis=1)\n",
        "\n",
        "            df_copy = pd.concat([df_copy, foobar], sort=False, axis=1)\n",
        "            \n",
        "    df_copy.set_index(['datetime'], drop=True, inplace=True)\n",
        "    return df_copy"
      ],
      "execution_count": 10,
      "outputs": []
    },
    {
      "cell_type": "code",
      "metadata": {
        "colab": {
          "base_uri": "https://localhost:8080/"
        },
        "id": "9IfQvyqx3zDq",
        "outputId": "ec358c4f-5b08-4c4a-ed65-0f97c3f9487f"
      },
      "source": [
        "list_of_attributes = ['value']\n",
        "\n",
        "list_of_prev_t_instants = []\n",
        "for i in range(1,5):\n",
        "    list_of_prev_t_instants.append(i)\n",
        "\n",
        "list_of_prev_t_instants"
      ],
      "execution_count": 11,
      "outputs": [
        {
          "output_type": "execute_result",
          "data": {
            "text/plain": [
              "[1, 2, 3, 4]"
            ]
          },
          "metadata": {
            "tags": []
          },
          "execution_count": 11
        }
      ]
    },
    {
      "cell_type": "code",
      "metadata": {
        "colab": {
          "base_uri": "https://localhost:8080/",
          "height": 233
        },
        "id": "IpitSDSa3zDq",
        "outputId": "0d50e63c-d766-4555-d325-3b5555c26575"
      },
      "source": [
        "df_new = create_regressor_attributes(df_value, list_of_attributes, list_of_prev_t_instants)\n",
        "df_new.head()"
      ],
      "execution_count": 12,
      "outputs": [
        {
          "output_type": "execute_result",
          "data": {
            "text/html": [
              "<div>\n",
              "<style scoped>\n",
              "    .dataframe tbody tr th:only-of-type {\n",
              "        vertical-align: middle;\n",
              "    }\n",
              "\n",
              "    .dataframe tbody tr th {\n",
              "        vertical-align: top;\n",
              "    }\n",
              "\n",
              "    .dataframe thead th {\n",
              "        text-align: right;\n",
              "    }\n",
              "</style>\n",
              "<table border=\"1\" class=\"dataframe\">\n",
              "  <thead>\n",
              "    <tr style=\"text-align: right;\">\n",
              "      <th></th>\n",
              "      <th>value</th>\n",
              "      <th>value_(t-1)</th>\n",
              "      <th>value_(t-2)</th>\n",
              "      <th>value_(t-3)</th>\n",
              "      <th>value_(t-4)</th>\n",
              "    </tr>\n",
              "    <tr>\n",
              "      <th>datetime</th>\n",
              "      <th></th>\n",
              "      <th></th>\n",
              "      <th></th>\n",
              "      <th></th>\n",
              "      <th></th>\n",
              "    </tr>\n",
              "  </thead>\n",
              "  <tbody>\n",
              "    <tr>\n",
              "      <th>1952-05-01</th>\n",
              "      <td>157140.0</td>\n",
              "      <td>156943.0</td>\n",
              "      <td>156731.0</td>\n",
              "      <td>156527.0</td>\n",
              "      <td>156309.0</td>\n",
              "    </tr>\n",
              "    <tr>\n",
              "      <th>1952-06-01</th>\n",
              "      <td>157343.0</td>\n",
              "      <td>157140.0</td>\n",
              "      <td>156943.0</td>\n",
              "      <td>156731.0</td>\n",
              "      <td>156527.0</td>\n",
              "    </tr>\n",
              "    <tr>\n",
              "      <th>1952-07-01</th>\n",
              "      <td>157553.0</td>\n",
              "      <td>157343.0</td>\n",
              "      <td>157140.0</td>\n",
              "      <td>156943.0</td>\n",
              "      <td>156731.0</td>\n",
              "    </tr>\n",
              "    <tr>\n",
              "      <th>1952-08-01</th>\n",
              "      <td>157798.0</td>\n",
              "      <td>157553.0</td>\n",
              "      <td>157343.0</td>\n",
              "      <td>157140.0</td>\n",
              "      <td>156943.0</td>\n",
              "    </tr>\n",
              "    <tr>\n",
              "      <th>1952-09-01</th>\n",
              "      <td>158053.0</td>\n",
              "      <td>157798.0</td>\n",
              "      <td>157553.0</td>\n",
              "      <td>157343.0</td>\n",
              "      <td>157140.0</td>\n",
              "    </tr>\n",
              "  </tbody>\n",
              "</table>\n",
              "</div>"
            ],
            "text/plain": [
              "               value  value_(t-1)  value_(t-2)  value_(t-3)  value_(t-4)\n",
              "datetime                                                                \n",
              "1952-05-01  157140.0     156943.0     156731.0     156527.0     156309.0\n",
              "1952-06-01  157343.0     157140.0     156943.0     156731.0     156527.0\n",
              "1952-07-01  157553.0     157343.0     157140.0     156943.0     156731.0\n",
              "1952-08-01  157798.0     157553.0     157343.0     157140.0     156943.0\n",
              "1952-09-01  158053.0     157798.0     157553.0     157343.0     157140.0"
            ]
          },
          "metadata": {
            "tags": []
          },
          "execution_count": 12
        }
      ]
    },
    {
      "cell_type": "code",
      "metadata": {
        "colab": {
          "base_uri": "https://localhost:8080/"
        },
        "id": "34SNQXlb3zDq",
        "outputId": "48937bc8-f37f-4558-fafb-5e2a5425099e"
      },
      "source": [
        "df_new.shape"
      ],
      "execution_count": 13,
      "outputs": [
        {
          "output_type": "execute_result",
          "data": {
            "text/plain": [
              "(812, 5)"
            ]
          },
          "metadata": {
            "tags": []
          },
          "execution_count": 13
        }
      ]
    },
    {
      "cell_type": "code",
      "metadata": {
        "id": "2UwyIAtz3zDr"
      },
      "source": [
        "from tensorflow.keras.layers import Input, Dense, Dropout\n",
        "from tensorflow.keras.optimizers import SGD\n",
        "from tensorflow.keras.models import Model\n",
        "from tensorflow.keras.models import load_model\n",
        "from tensorflow.keras.callbacks import ModelCheckpoint"
      ],
      "execution_count": 14,
      "outputs": []
    },
    {
      "cell_type": "markdown",
      "metadata": {
        "id": "vCVmam143zDr"
      },
      "source": [
        "==============================================================================="
      ]
    },
    {
      "cell_type": "code",
      "metadata": {
        "id": "b4UyaEj-3zDr"
      },
      "source": [
        "callback = tf.keras.callbacks.EarlyStopping(monitor='loss', patience=3)"
      ],
      "execution_count": 15,
      "outputs": []
    },
    {
      "cell_type": "code",
      "metadata": {
        "colab": {
          "base_uri": "https://localhost:8080/"
        },
        "id": "C5RRhZF33zDs",
        "outputId": "9cdeb1c3-f023-4284-bb16-9271dda49d6b"
      },
      "source": [
        "test_set_size = 0.05\n",
        "valid_set_size= 0.05\n",
        "\n",
        "df_copy = df_new.reset_index(drop=True)\n",
        "\n",
        "df_test = df_copy.iloc[ int(np.floor(len(df_copy)*(1-test_set_size))) : ]\n",
        "df_train_plus_valid = df_copy.iloc[ : int(np.floor(len(df_copy)*(1-test_set_size))) ]\n",
        "\n",
        "df_train = df_train_plus_valid.iloc[ : int(np.floor(len(df_train_plus_valid)*(1-valid_set_size))) ]\n",
        "df_valid = df_train_plus_valid.iloc[ int(np.floor(len(df_train_plus_valid)*(1-valid_set_size))) : ]\n",
        "\n",
        "\n",
        "X_train, y_train = df_train.iloc[:, 1:], df_train.iloc[:, 0]\n",
        "X_valid, y_valid = df_valid.iloc[:, 1:], df_valid.iloc[:, 0]\n",
        "X_test, y_test = df_test.iloc[:, 1:], df_test.iloc[:, 0]\n",
        "\n",
        "print('Shape of training inputs, training target:', X_train.shape, y_train.shape)\n",
        "print('Shape of validation inputs, validation target:', X_valid.shape, y_valid.shape)\n",
        "print('Shape of test inputs, test target:', X_test.shape, y_test.shape)"
      ],
      "execution_count": 16,
      "outputs": [
        {
          "output_type": "stream",
          "text": [
            "Shape of training inputs, training target: (732, 4) (732,)\n",
            "Shape of validation inputs, validation target: (39, 4) (39,)\n",
            "Shape of test inputs, test target: (41, 4) (41,)\n"
          ],
          "name": "stdout"
        }
      ]
    },
    {
      "cell_type": "code",
      "metadata": {
        "id": "p69dScEL3zDs"
      },
      "source": [
        "from sklearn.preprocessing import MinMaxScaler\n",
        "\n",
        "Target_scaler = MinMaxScaler(feature_range=(0.01, 0.99))\n",
        "Feature_scaler = MinMaxScaler(feature_range=(0.01, 0.99))\n",
        "\n",
        "X_train_scaled = Feature_scaler.fit_transform(np.array(X_train))\n",
        "X_valid_scaled = Feature_scaler.fit_transform(np.array(X_valid))\n",
        "X_test_scaled = Feature_scaler.fit_transform(np.array(X_test))\n",
        "\n",
        "y_train_scaled = Target_scaler.fit_transform(np.array(y_train).reshape(-1,1))\n",
        "y_valid_scaled = Target_scaler.fit_transform(np.array(y_valid).reshape(-1,1))\n",
        "y_test_scaled = Target_scaler.fit_transform(np.array(y_test).reshape(-1,1))"
      ],
      "execution_count": 17,
      "outputs": []
    },
    {
      "cell_type": "markdown",
      "metadata": {
        "id": "K_JjrL9o599E"
      },
      "source": [
        "**MLPS Models**"
      ]
    },
    {
      "cell_type": "markdown",
      "metadata": {
        "id": "Uo8ydH0c6qKN"
      },
      "source": [
        "Model 1: \n",
        "Dense1 = 60\n",
        "Dense1 = 60\n",
        "batch_size =5\n",
        "epochs=500"
      ]
    },
    {
      "cell_type": "code",
      "metadata": {
        "colab": {
          "base_uri": "https://localhost:8080/"
        },
        "id": "0cS9OAvX3zDt",
        "outputId": "49ff1061-523c-4a08-e7d9-0c6c5d4316c9"
      },
      "source": [
        "input_layer = Input(shape=(4), dtype='float32')\n",
        "dense1 = Dense(60, activation='sigmoid')(input_layer)\n",
        "dense2 = Dense(60, activation='sigmoid')(dense1)\n",
        "dropout_layer = Dropout(0.2)(dense2)\n",
        "output_layer = Dense(1, activation='sigmoid')(dropout_layer)\n",
        "\n",
        "\n",
        "model = Model(inputs=input_layer, outputs=output_layer)\n",
        "model.compile(loss='mean_squared_error', optimizer='adam')\n",
        "model.summary()"
      ],
      "execution_count": 18,
      "outputs": [
        {
          "output_type": "stream",
          "text": [
            "Model: \"model\"\n",
            "_________________________________________________________________\n",
            "Layer (type)                 Output Shape              Param #   \n",
            "=================================================================\n",
            "input_1 (InputLayer)         [(None, 4)]               0         \n",
            "_________________________________________________________________\n",
            "dense (Dense)                (None, 60)                300       \n",
            "_________________________________________________________________\n",
            "dense_1 (Dense)              (None, 60)                3660      \n",
            "_________________________________________________________________\n",
            "dropout (Dropout)            (None, 60)                0         \n",
            "_________________________________________________________________\n",
            "dense_2 (Dense)              (None, 1)                 61        \n",
            "=================================================================\n",
            "Total params: 4,021\n",
            "Trainable params: 4,021\n",
            "Non-trainable params: 0\n",
            "_________________________________________________________________\n"
          ],
          "name": "stdout"
        }
      ]
    },
    {
      "cell_type": "code",
      "metadata": {
        "colab": {
          "base_uri": "https://localhost:8080/"
        },
        "id": "tkLZNfGq3zDt",
        "outputId": "c3aa6f46-9627-4878-9627-4fc8aa762a69"
      },
      "source": [
        "model.fit(x=X_train_scaled, y=y_train_scaled, batch_size=5, epochs=500, verbose=1,callbacks=[callback], validation_data=(X_valid_scaled, y_valid_scaled), shuffle=True)"
      ],
      "execution_count": 19,
      "outputs": [
        {
          "output_type": "stream",
          "text": [
            "Epoch 1/500\n",
            "147/147 [==============================] - 1s 4ms/step - loss: 0.0862 - val_loss: 0.0684\n",
            "Epoch 2/500\n",
            "147/147 [==============================] - 0s 2ms/step - loss: 0.0662 - val_loss: 0.0353\n",
            "Epoch 3/500\n",
            "147/147 [==============================] - 0s 1ms/step - loss: 0.0352 - val_loss: 0.0096\n",
            "Epoch 4/500\n",
            "147/147 [==============================] - 0s 2ms/step - loss: 0.0123 - val_loss: 0.0030\n",
            "Epoch 5/500\n",
            "147/147 [==============================] - 0s 2ms/step - loss: 0.0073 - val_loss: 0.0020\n",
            "Epoch 6/500\n",
            "147/147 [==============================] - 0s 1ms/step - loss: 0.0049 - val_loss: 0.0016\n",
            "Epoch 7/500\n",
            "147/147 [==============================] - 0s 2ms/step - loss: 0.0045 - val_loss: 0.0018\n",
            "Epoch 8/500\n",
            "147/147 [==============================] - 0s 1ms/step - loss: 0.0040 - val_loss: 0.0016\n",
            "Epoch 9/500\n",
            "147/147 [==============================] - 0s 1ms/step - loss: 0.0038 - val_loss: 0.0015\n",
            "Epoch 10/500\n",
            "147/147 [==============================] - 0s 1ms/step - loss: 0.0031 - val_loss: 0.0015\n",
            "Epoch 11/500\n",
            "147/147 [==============================] - 0s 2ms/step - loss: 0.0030 - val_loss: 0.0015\n",
            "Epoch 12/500\n",
            "147/147 [==============================] - 0s 1ms/step - loss: 0.0034 - val_loss: 0.0014\n",
            "Epoch 13/500\n",
            "147/147 [==============================] - 0s 1ms/step - loss: 0.0028 - val_loss: 0.0017\n",
            "Epoch 14/500\n",
            "147/147 [==============================] - 0s 2ms/step - loss: 0.0028 - val_loss: 0.0013\n",
            "Epoch 15/500\n",
            "147/147 [==============================] - 0s 2ms/step - loss: 0.0026 - val_loss: 0.0013\n",
            "Epoch 16/500\n",
            "147/147 [==============================] - 0s 1ms/step - loss: 0.0025 - val_loss: 0.0012\n",
            "Epoch 17/500\n",
            "147/147 [==============================] - 0s 1ms/step - loss: 0.0023 - val_loss: 0.0014\n",
            "Epoch 18/500\n",
            "147/147 [==============================] - 0s 1ms/step - loss: 0.0023 - val_loss: 0.0012\n",
            "Epoch 19/500\n",
            "147/147 [==============================] - 0s 2ms/step - loss: 0.0021 - val_loss: 0.0011\n",
            "Epoch 20/500\n",
            "147/147 [==============================] - 0s 1ms/step - loss: 0.0022 - val_loss: 0.0011\n",
            "Epoch 21/500\n",
            "147/147 [==============================] - 0s 1ms/step - loss: 0.0018 - val_loss: 0.0010\n",
            "Epoch 22/500\n",
            "147/147 [==============================] - 0s 2ms/step - loss: 0.0019 - val_loss: 9.9633e-04\n",
            "Epoch 23/500\n",
            "147/147 [==============================] - 0s 1ms/step - loss: 0.0016 - val_loss: 9.2884e-04\n",
            "Epoch 24/500\n",
            "147/147 [==============================] - 0s 1ms/step - loss: 0.0016 - val_loss: 8.7832e-04\n",
            "Epoch 25/500\n",
            "147/147 [==============================] - 0s 1ms/step - loss: 0.0013 - val_loss: 8.6359e-04\n",
            "Epoch 26/500\n",
            "147/147 [==============================] - 0s 1ms/step - loss: 0.0016 - val_loss: 8.0850e-04\n",
            "Epoch 27/500\n",
            "147/147 [==============================] - 0s 1ms/step - loss: 0.0013 - val_loss: 7.3444e-04\n",
            "Epoch 28/500\n",
            "147/147 [==============================] - 0s 2ms/step - loss: 0.0012 - val_loss: 7.0700e-04\n",
            "Epoch 29/500\n",
            "147/147 [==============================] - 0s 2ms/step - loss: 0.0011 - val_loss: 7.8032e-04\n",
            "Epoch 30/500\n",
            "147/147 [==============================] - 0s 1ms/step - loss: 0.0011 - val_loss: 6.1159e-04\n",
            "Epoch 31/500\n",
            "147/147 [==============================] - 0s 1ms/step - loss: 9.9306e-04 - val_loss: 6.1612e-04\n",
            "Epoch 32/500\n",
            "147/147 [==============================] - 0s 1ms/step - loss: 0.0010 - val_loss: 4.8261e-04\n",
            "Epoch 33/500\n",
            "147/147 [==============================] - 0s 2ms/step - loss: 0.0010 - val_loss: 6.0614e-04\n",
            "Epoch 34/500\n",
            "147/147 [==============================] - 0s 1ms/step - loss: 8.3118e-04 - val_loss: 4.6056e-04\n",
            "Epoch 35/500\n",
            "147/147 [==============================] - 0s 1ms/step - loss: 7.6698e-04 - val_loss: 3.6555e-04\n",
            "Epoch 36/500\n",
            "147/147 [==============================] - 0s 1ms/step - loss: 6.9787e-04 - val_loss: 3.5905e-04\n",
            "Epoch 37/500\n",
            "147/147 [==============================] - 0s 1ms/step - loss: 6.6587e-04 - val_loss: 4.6629e-04\n",
            "Epoch 38/500\n",
            "147/147 [==============================] - 0s 2ms/step - loss: 6.9450e-04 - val_loss: 2.9735e-04\n",
            "Epoch 39/500\n",
            "147/147 [==============================] - 0s 2ms/step - loss: 5.8136e-04 - val_loss: 2.6332e-04\n",
            "Epoch 40/500\n",
            "147/147 [==============================] - 0s 1ms/step - loss: 6.6649e-04 - val_loss: 3.0395e-04\n",
            "Epoch 41/500\n",
            "147/147 [==============================] - 0s 1ms/step - loss: 5.7804e-04 - val_loss: 2.5701e-04\n",
            "Epoch 42/500\n",
            "147/147 [==============================] - 0s 2ms/step - loss: 5.0844e-04 - val_loss: 2.2884e-04\n",
            "Epoch 43/500\n",
            "147/147 [==============================] - 0s 1ms/step - loss: 5.0145e-04 - val_loss: 2.4527e-04\n",
            "Epoch 44/500\n",
            "147/147 [==============================] - 0s 1ms/step - loss: 5.7601e-04 - val_loss: 2.4681e-04\n",
            "Epoch 45/500\n",
            "147/147 [==============================] - 0s 2ms/step - loss: 5.6746e-04 - val_loss: 1.9197e-04\n",
            "Epoch 46/500\n",
            "147/147 [==============================] - 0s 1ms/step - loss: 4.0537e-04 - val_loss: 1.9072e-04\n",
            "Epoch 47/500\n",
            "147/147 [==============================] - 0s 2ms/step - loss: 4.6039e-04 - val_loss: 2.3104e-04\n",
            "Epoch 48/500\n",
            "147/147 [==============================] - 0s 1ms/step - loss: 4.5325e-04 - val_loss: 2.2862e-04\n",
            "Epoch 49/500\n",
            "147/147 [==============================] - 0s 1ms/step - loss: 4.3673e-04 - val_loss: 2.0412e-04\n",
            "Epoch 50/500\n",
            "147/147 [==============================] - 0s 1ms/step - loss: 4.7525e-04 - val_loss: 2.3273e-04\n",
            "Epoch 51/500\n",
            "147/147 [==============================] - 0s 2ms/step - loss: 3.9916e-04 - val_loss: 2.8884e-04\n",
            "Epoch 52/500\n",
            "147/147 [==============================] - 0s 1ms/step - loss: 4.6025e-04 - val_loss: 1.8482e-04\n",
            "Epoch 53/500\n",
            "147/147 [==============================] - 0s 1ms/step - loss: 4.6438e-04 - val_loss: 2.8243e-04\n",
            "Epoch 54/500\n",
            "147/147 [==============================] - 0s 2ms/step - loss: 5.1105e-04 - val_loss: 3.0296e-04\n"
          ],
          "name": "stdout"
        },
        {
          "output_type": "execute_result",
          "data": {
            "text/plain": [
              "<tensorflow.python.keras.callbacks.History at 0x7f289d918fd0>"
            ]
          },
          "metadata": {
            "tags": []
          },
          "execution_count": 19
        }
      ]
    },
    {
      "cell_type": "code",
      "metadata": {
        "id": "LHfjVgoN3zDu"
      },
      "source": [
        "y_pred = model.predict(X_test_scaled)"
      ],
      "execution_count": 20,
      "outputs": []
    },
    {
      "cell_type": "code",
      "metadata": {
        "id": "84m_RN283zDu"
      },
      "source": [
        "y_pred_rescaled = Target_scaler.inverse_transform(y_pred)"
      ],
      "execution_count": 21,
      "outputs": []
    },
    {
      "cell_type": "code",
      "metadata": {
        "colab": {
          "base_uri": "https://localhost:8080/"
        },
        "id": "HDmOhvAS3zDu",
        "outputId": "031b30b3-b049-4477-b4f5-568a700f7ab6"
      },
      "source": [
        "from sklearn.metrics import r2_score\n",
        "y_test_rescaled =  Target_scaler.inverse_transform(y_test_scaled)\n",
        "score = r2_score(y_test_rescaled, y_pred_rescaled)\n",
        "print('R-squared score for the test set:', round(score,4))"
      ],
      "execution_count": 22,
      "outputs": [
        {
          "output_type": "stream",
          "text": [
            "R-squared score for the test set: 0.9974\n"
          ],
          "name": "stdout"
        }
      ]
    },
    {
      "cell_type": "code",
      "metadata": {
        "colab": {
          "base_uri": "https://localhost:8080/"
        },
        "id": "MJ7rEjHx3zDv",
        "outputId": "2050d0e7-583a-4880-a8a4-1e9e2ce6ce51"
      },
      "source": [
        "y_test_rescaled.shape"
      ],
      "execution_count": 23,
      "outputs": [
        {
          "output_type": "execute_result",
          "data": {
            "text/plain": [
              "(41, 1)"
            ]
          },
          "metadata": {
            "tags": []
          },
          "execution_count": 23
        }
      ]
    },
    {
      "cell_type": "code",
      "metadata": {
        "colab": {
          "base_uri": "https://localhost:8080/"
        },
        "id": "TszsUxOW3zDv",
        "outputId": "1db45061-0228-4287-81ae-d74569b69298"
      },
      "source": [
        "y_pred_rescaled.shape"
      ],
      "execution_count": 24,
      "outputs": [
        {
          "output_type": "execute_result",
          "data": {
            "text/plain": [
              "(41, 1)"
            ]
          },
          "metadata": {
            "tags": []
          },
          "execution_count": 24
        }
      ]
    },
    {
      "cell_type": "code",
      "metadata": {
        "id": "6EGVcvkR3zDw"
      },
      "source": [
        "y_actual = pd.DataFrame(y_test_rescaled, columns=['Actual Value Population'])\n",
        "y_hat = pd.DataFrame(y_pred_rescaled, columns=['Predicted Value Population'])"
      ],
      "execution_count": 25,
      "outputs": []
    },
    {
      "cell_type": "code",
      "metadata": {
        "colab": {
          "base_uri": "https://localhost:8080/",
          "height": 385
        },
        "id": "E-eWVGu83zDw",
        "outputId": "0511421d-ebcb-4c1e-8269-98e2f2e35fab"
      },
      "source": [
        "plt.figure(figsize=(11, 6))\n",
        "plt.plot(y_actual, linestyle='solid', color='r')\n",
        "plt.plot(y_hat, linestyle='dashed', color='b')\n",
        "\n",
        "plt.legend(['Actual Value Population','Predicted Value Population'], loc='best', prop={'size': 14})\n",
        "\n",
        "plt.ylabel('Value', weight='bold', fontsize=14)\n",
        "\n",
        "plt.xticks(weight='bold', fontsize=12, rotation=45)\n",
        "plt.yticks(weight='bold', fontsize=12)\n",
        "plt.grid(color = 'y', linewidth='0.5')\n",
        "plt.show()"
      ],
      "execution_count": 26,
      "outputs": [
        {
          "output_type": "display_data",
          "data": {
            "image/png": "[encoded data removed]",
            "text/plain": [
              "<Figure size 792x432 with 1 Axes>"
            ]
          },
          "metadata": {
            "tags": [],
            "needs_background": "light"
          }
        }
      ]
    },
    {
      "cell_type": "markdown",
      "metadata": {
        "id": "8h31fytf7AVG"
      },
      "source": [
        "Model 2: Dense = 64\n",
        "Dense 2 = 32\n",
        "batch_size =3\n",
        "epochs= 50"
      ]
    },
    {
      "cell_type": "code",
      "metadata": {
        "colab": {
          "base_uri": "https://localhost:8080/"
        },
        "id": "8ByzvdNY3zDx",
        "outputId": "5a5c9a41-cd4c-4c55-ea6c-0b159196c8e1"
      },
      "source": [
        "input_layer = Input(shape=(4), dtype='float32')\n",
        "dense1 = Dense(64, activation='tanh')(input_layer)\n",
        "dense2 = Dense(32, activation='tanh')(dense1)\n",
        "dropout_layer = Dropout(0.2)(dense2)\n",
        "output_layer = Dense(1, activation='tanh')(dropout_layer)\n",
        "\n",
        "model = Model(inputs=input_layer, outputs=output_layer)\n",
        "model.compile(loss='mean_squared_error', optimizer='adam')\n",
        "model.summary()"
      ],
      "execution_count": 27,
      "outputs": [
        {
          "output_type": "stream",
          "text": [
            "Model: \"model_1\"\n",
            "_________________________________________________________________\n",
            "Layer (type)                 Output Shape              Param #   \n",
            "=================================================================\n",
            "input_2 (InputLayer)         [(None, 4)]               0         \n",
            "_________________________________________________________________\n",
            "dense_3 (Dense)              (None, 64)                320       \n",
            "_________________________________________________________________\n",
            "dense_4 (Dense)              (None, 32)                2080      \n",
            "_________________________________________________________________\n",
            "dropout_1 (Dropout)          (None, 32)                0         \n",
            "_________________________________________________________________\n",
            "dense_5 (Dense)              (None, 1)                 33        \n",
            "=================================================================\n",
            "Total params: 2,433\n",
            "Trainable params: 2,433\n",
            "Non-trainable params: 0\n",
            "_________________________________________________________________\n"
          ],
          "name": "stdout"
        }
      ]
    },
    {
      "cell_type": "code",
      "metadata": {
        "colab": {
          "base_uri": "https://localhost:8080/"
        },
        "id": "8DZqL8DI3zDx",
        "outputId": "929d77fa-36c9-46ed-d00f-7506c9a6aa45"
      },
      "source": [
        "model.fit(x=X_train_scaled, y=y_train_scaled, batch_size=3, epochs=50, verbose=1,callbacks=[callback], validation_data=(X_valid_scaled, y_valid_scaled), shuffle=True)"
      ],
      "execution_count": 28,
      "outputs": [
        {
          "output_type": "stream",
          "text": [
            "Epoch 1/50\n",
            "244/244 [==============================] - 1s 2ms/step - loss: 0.1337 - val_loss: 0.0034\n",
            "Epoch 2/50\n",
            "244/244 [==============================] - 0s 1ms/step - loss: 0.0057 - val_loss: 0.0043\n",
            "Epoch 3/50\n",
            "244/244 [==============================] - 0s 1ms/step - loss: 0.0048 - val_loss: 0.0033\n",
            "Epoch 4/50\n",
            "244/244 [==============================] - 0s 1ms/step - loss: 0.0048 - val_loss: 0.0030\n",
            "Epoch 5/50\n",
            "244/244 [==============================] - 0s 1ms/step - loss: 0.0035 - val_loss: 0.0029\n",
            "Epoch 6/50\n",
            "244/244 [==============================] - 0s 1ms/step - loss: 0.0040 - val_loss: 0.0026\n",
            "Epoch 7/50\n",
            "244/244 [==============================] - 0s 1ms/step - loss: 0.0037 - val_loss: 0.0025\n",
            "Epoch 8/50\n",
            "244/244 [==============================] - 0s 1ms/step - loss: 0.0041 - val_loss: 0.0018\n",
            "Epoch 9/50\n",
            "244/244 [==============================] - 0s 1ms/step - loss: 0.0027 - val_loss: 0.0018\n",
            "Epoch 10/50\n",
            "244/244 [==============================] - 0s 1ms/step - loss: 0.0023 - val_loss: 0.0013\n",
            "Epoch 11/50\n",
            "244/244 [==============================] - 0s 1ms/step - loss: 0.0020 - val_loss: 9.7314e-04\n",
            "Epoch 12/50\n",
            "244/244 [==============================] - 0s 1ms/step - loss: 0.0018 - val_loss: 7.5635e-04\n",
            "Epoch 13/50\n",
            "244/244 [==============================] - 0s 1ms/step - loss: 0.0017 - val_loss: 7.6815e-04\n",
            "Epoch 14/50\n",
            "244/244 [==============================] - 0s 1ms/step - loss: 0.0017 - val_loss: 8.0883e-04\n",
            "Epoch 15/50\n",
            "244/244 [==============================] - 0s 1ms/step - loss: 0.0013 - val_loss: 6.7283e-04\n",
            "Epoch 16/50\n",
            "244/244 [==============================] - 0s 1ms/step - loss: 0.0019 - val_loss: 0.0011\n",
            "Epoch 17/50\n",
            "244/244 [==============================] - 0s 1ms/step - loss: 0.0016 - val_loss: 7.9787e-04\n",
            "Epoch 18/50\n",
            "244/244 [==============================] - 0s 1ms/step - loss: 0.0015 - val_loss: 7.5569e-04\n",
            "Epoch 19/50\n",
            "244/244 [==============================] - 0s 1ms/step - loss: 0.0012 - val_loss: 0.0015\n",
            "Epoch 20/50\n",
            "244/244 [==============================] - 0s 1ms/step - loss: 0.0016 - val_loss: 7.2132e-04\n",
            "Epoch 21/50\n",
            "244/244 [==============================] - 0s 1ms/step - loss: 0.0015 - val_loss: 7.5803e-04\n",
            "Epoch 22/50\n",
            "244/244 [==============================] - 0s 1ms/step - loss: 0.0014 - val_loss: 7.1219e-04\n"
          ],
          "name": "stdout"
        },
        {
          "output_type": "execute_result",
          "data": {
            "text/plain": [
              "<tensorflow.python.keras.callbacks.History at 0x7f2896ab5810>"
            ]
          },
          "metadata": {
            "tags": []
          },
          "execution_count": 28
        }
      ]
    },
    {
      "cell_type": "code",
      "metadata": {
        "id": "vToPKdef3zDx"
      },
      "source": [
        "y_pred = model.predict(X_test_scaled)\n",
        "y_pred_rescaled = Target_scaler.inverse_transform(y_pred)"
      ],
      "execution_count": 29,
      "outputs": []
    },
    {
      "cell_type": "code",
      "metadata": {
        "colab": {
          "base_uri": "https://localhost:8080/"
        },
        "id": "oZSQpghj3zDy",
        "outputId": "fa96454b-95e6-417f-ba2c-23e19260e73a"
      },
      "source": [
        "from sklearn.metrics import r2_score\n",
        "y_test_rescaled =  Target_scaler.inverse_transform(y_test_scaled)\n",
        "score = r2_score(y_test_rescaled, y_pred_rescaled)\n",
        "print('R-squared score for the test set:', round(score,4))"
      ],
      "execution_count": 30,
      "outputs": [
        {
          "output_type": "stream",
          "text": [
            "R-squared score for the test set: 0.9863\n"
          ],
          "name": "stdout"
        }
      ]
    },
    {
      "cell_type": "code",
      "metadata": {
        "id": "DuOuLspJ3zDy"
      },
      "source": [
        "y_actual = pd.DataFrame(y_test_rescaled, columns=['Actual Value Population'])\n",
        "y_hat = pd.DataFrame(y_pred_rescaled, columns=['Predicted Value Population'])"
      ],
      "execution_count": 31,
      "outputs": []
    },
    {
      "cell_type": "code",
      "metadata": {
        "colab": {
          "base_uri": "https://localhost:8080/",
          "height": 385
        },
        "id": "4RiGFaFc3zDy",
        "outputId": "327fb3ad-819b-4e4c-8ee7-2b64f0ae5c58"
      },
      "source": [
        "plt.figure(figsize=(11, 6))\n",
        "plt.plot(y_actual, linestyle='solid', color='r')\n",
        "plt.plot(y_hat, linestyle='dashed', color='b')\n",
        "\n",
        "plt.legend(['Actual Value Population','Predicted Value Population'], loc='best', prop={'size': 14})\n",
        "# plt.title('Bitcoin Stock Closing Prices', weight='bold', fontsize=16)\n",
        "plt.ylabel('Value', weight='bold', fontsize=14)\n",
        "# plt.xlabel('Test Set Day no.', weight='bold', fontsize=14)\n",
        "plt.xticks(weight='bold', fontsize=12, rotation=45)\n",
        "plt.yticks(weight='bold', fontsize=12)\n",
        "plt.grid(color = 'y', linewidth='0.5')\n",
        "plt.show()"
      ],
      "execution_count": 32,
      "outputs": [
        {
          "output_type": "display_data",
          "data": {
            "image/png": "[encoded data removed]",
            "text/plain": [
              "<Figure size 792x432 with 1 Axes>"
            ]
          },
          "metadata": {
            "tags": [],
            "needs_background": "light"
          }
        }
      ]
    },
    {
      "cell_type": "markdown",
      "metadata": {
        "id": "A5vUmyxn8VMJ"
      },
      "source": [
        "**LSTM**"
      ]
    },
    {
      "cell_type": "code",
      "metadata": {
        "colab": {
          "base_uri": "https://localhost:8080/"
        },
        "id": "7ZsRvos78fxf",
        "outputId": "4774b59c-4f33-43c3-b0f3-b40becf194a1"
      },
      "source": [
        "x_train=X_train_scaled\n",
        "x_train"
      ],
      "execution_count": 33,
      "outputs": [
        {
          "output_type": "execute_result",
          "data": {
            "text/plain": [
              "array([[0.01      , 0.01      , 0.01      , 0.01      ],\n",
              "       [0.01121636, 0.0113084 , 0.01125845, 0.01134429],\n",
              "       [0.01246977, 0.01252423, 0.01256624, 0.01260225],\n",
              "       ...,\n",
              "       [0.98831667, 0.98822631, 0.98792892, 0.9876643 ],\n",
              "       [0.98912273, 0.9891943 , 0.98903246, 0.98889688],\n",
              "       [0.99      , 0.99      , 0.99      , 0.99      ]])"
            ]
          },
          "metadata": {
            "tags": []
          },
          "execution_count": 33
        }
      ]
    },
    {
      "cell_type": "code",
      "metadata": {
        "colab": {
          "base_uri": "https://localhost:8080/"
        },
        "id": "b066Gm758qhF",
        "outputId": "3d6f3ef7-a323-4775-e619-78027ca6fe0a"
      },
      "source": [
        "x_train=np.reshape(x_train,(x_train.shape[0],1,x_train.shape[1]))\n",
        "x_train.shape\n"
      ],
      "execution_count": 34,
      "outputs": [
        {
          "output_type": "execute_result",
          "data": {
            "text/plain": [
              "(732, 1, 4)"
            ]
          },
          "metadata": {
            "tags": []
          },
          "execution_count": 34
        }
      ]
    },
    {
      "cell_type": "code",
      "metadata": {
        "colab": {
          "base_uri": "https://localhost:8080/"
        },
        "id": "wsmJQh8L9DXX",
        "outputId": "5a063168-80f8-45ee-8121-3780af38c774"
      },
      "source": [
        "y_train=y_train_scaled\n",
        "y_train.shape"
      ],
      "execution_count": 35,
      "outputs": [
        {
          "output_type": "execute_result",
          "data": {
            "text/plain": [
              "(732, 1)"
            ]
          },
          "metadata": {
            "tags": []
          },
          "execution_count": 35
        }
      ]
    },
    {
      "cell_type": "code",
      "metadata": {
        "id": "rYpLkpp_3zDy"
      },
      "source": [
        "model = keras.Sequential([\n",
        "    keras.layers.LSTM(64,input_shape=(1,4),activation='relu',return_sequences=True),\n",
        "    keras.layers.LSTM(64,activation='relu'),\n",
        "    keras.layers.Dense(1)\n",
        "])"
      ],
      "execution_count": 36,
      "outputs": []
    },
    {
      "cell_type": "code",
      "metadata": {
        "colab": {
          "base_uri": "https://localhost:8080/"
        },
        "id": "cS8CDWFd7s_B",
        "outputId": "2e388c36-4d7c-4572-d3c6-5f2bea28eb44"
      },
      "source": [
        "model.compile(loss='mse',optimizer='adam')\n",
        "model.summary()"
      ],
      "execution_count": 37,
      "outputs": [
        {
          "output_type": "stream",
          "text": [
            "Model: \"sequential\"\n",
            "_________________________________________________________________\n",
            "Layer (type)                 Output Shape              Param #   \n",
            "=================================================================\n",
            "lstm (LSTM)                  (None, 1, 64)             17664     \n",
            "_________________________________________________________________\n",
            "lstm_1 (LSTM)                (None, 64)                33024     \n",
            "_________________________________________________________________\n",
            "dense_6 (Dense)              (None, 1)                 65        \n",
            "=================================================================\n",
            "Total params: 50,753\n",
            "Trainable params: 50,753\n",
            "Non-trainable params: 0\n",
            "_________________________________________________________________\n"
          ],
          "name": "stdout"
        }
      ]
    },
    {
      "cell_type": "code",
      "metadata": {
        "colab": {
          "base_uri": "https://localhost:8080/"
        },
        "id": "6TZP3Wz47zVI",
        "outputId": "52ad323c-2a96-4e7e-d4e6-ad5901413e38"
      },
      "source": [
        "history = model.fit(x_train,y_train,epochs=100,batch_size=32,callbacks=[callback],verbose=2)"
      ],
      "execution_count": 38,
      "outputs": [
        {
          "output_type": "stream",
          "text": [
            "Epoch 1/100\n",
            "23/23 - 2s - loss: 0.2777\n",
            "Epoch 2/100\n",
            "23/23 - 0s - loss: 0.1669\n",
            "Epoch 3/100\n",
            "23/23 - 0s - loss: 0.0304\n",
            "Epoch 4/100\n",
            "23/23 - 0s - loss: 0.0077\n",
            "Epoch 5/100\n",
            "23/23 - 0s - loss: 0.0049\n",
            "Epoch 6/100\n",
            "23/23 - 0s - loss: 0.0037\n",
            "Epoch 7/100\n",
            "23/23 - 0s - loss: 0.0029\n",
            "Epoch 8/100\n",
            "23/23 - 0s - loss: 0.0025\n",
            "Epoch 9/100\n",
            "23/23 - 0s - loss: 0.0021\n",
            "Epoch 10/100\n",
            "23/23 - 0s - loss: 0.0020\n",
            "Epoch 11/100\n",
            "23/23 - 0s - loss: 0.0018\n",
            "Epoch 12/100\n",
            "23/23 - 0s - loss: 0.0018\n",
            "Epoch 13/100\n",
            "23/23 - 0s - loss: 0.0017\n",
            "Epoch 14/100\n",
            "23/23 - 0s - loss: 0.0016\n",
            "Epoch 15/100\n",
            "23/23 - 0s - loss: 0.0016\n",
            "Epoch 16/100\n",
            "23/23 - 0s - loss: 0.0015\n",
            "Epoch 17/100\n",
            "23/23 - 0s - loss: 0.0015\n",
            "Epoch 18/100\n",
            "23/23 - 0s - loss: 0.0014\n",
            "Epoch 19/100\n",
            "23/23 - 0s - loss: 0.0014\n",
            "Epoch 20/100\n",
            "23/23 - 0s - loss: 0.0013\n",
            "Epoch 21/100\n",
            "23/23 - 0s - loss: 0.0013\n",
            "Epoch 22/100\n",
            "23/23 - 0s - loss: 0.0012\n",
            "Epoch 23/100\n",
            "23/23 - 0s - loss: 0.0011\n",
            "Epoch 24/100\n",
            "23/23 - 0s - loss: 0.0011\n",
            "Epoch 25/100\n",
            "23/23 - 0s - loss: 0.0010\n",
            "Epoch 26/100\n",
            "23/23 - 0s - loss: 9.8415e-04\n",
            "Epoch 27/100\n",
            "23/23 - 0s - loss: 9.3283e-04\n",
            "Epoch 28/100\n",
            "23/23 - 0s - loss: 8.6677e-04\n",
            "Epoch 29/100\n",
            "23/23 - 0s - loss: 8.2112e-04\n",
            "Epoch 30/100\n",
            "23/23 - 0s - loss: 7.5474e-04\n",
            "Epoch 31/100\n",
            "23/23 - 0s - loss: 7.0860e-04\n",
            "Epoch 32/100\n",
            "23/23 - 0s - loss: 6.5794e-04\n",
            "Epoch 33/100\n",
            "23/23 - 0s - loss: 6.0662e-04\n",
            "Epoch 34/100\n",
            "23/23 - 0s - loss: 5.5889e-04\n",
            "Epoch 35/100\n",
            "23/23 - 0s - loss: 5.1937e-04\n",
            "Epoch 36/100\n",
            "23/23 - 0s - loss: 4.7100e-04\n",
            "Epoch 37/100\n",
            "23/23 - 0s - loss: 4.2713e-04\n",
            "Epoch 38/100\n",
            "23/23 - 0s - loss: 3.9962e-04\n",
            "Epoch 39/100\n",
            "23/23 - 0s - loss: 3.5348e-04\n",
            "Epoch 40/100\n",
            "23/23 - 0s - loss: 3.1894e-04\n",
            "Epoch 41/100\n",
            "23/23 - 0s - loss: 2.8667e-04\n",
            "Epoch 42/100\n",
            "23/23 - 0s - loss: 2.5919e-04\n",
            "Epoch 43/100\n",
            "23/23 - 0s - loss: 2.2736e-04\n",
            "Epoch 44/100\n",
            "23/23 - 0s - loss: 2.0213e-04\n",
            "Epoch 45/100\n",
            "23/23 - 0s - loss: 1.7984e-04\n",
            "Epoch 46/100\n",
            "23/23 - 0s - loss: 1.5950e-04\n",
            "Epoch 47/100\n",
            "23/23 - 0s - loss: 1.3797e-04\n",
            "Epoch 48/100\n",
            "23/23 - 0s - loss: 1.1972e-04\n",
            "Epoch 49/100\n",
            "23/23 - 0s - loss: 1.0432e-04\n",
            "Epoch 50/100\n",
            "23/23 - 0s - loss: 9.2217e-05\n",
            "Epoch 51/100\n",
            "23/23 - 0s - loss: 7.7523e-05\n",
            "Epoch 52/100\n",
            "23/23 - 0s - loss: 6.8144e-05\n",
            "Epoch 53/100\n",
            "23/23 - 0s - loss: 5.7263e-05\n",
            "Epoch 54/100\n",
            "23/23 - 0s - loss: 4.9934e-05\n",
            "Epoch 55/100\n",
            "23/23 - 0s - loss: 4.2604e-05\n",
            "Epoch 56/100\n",
            "23/23 - 0s - loss: 3.5626e-05\n",
            "Epoch 57/100\n",
            "23/23 - 0s - loss: 3.0475e-05\n",
            "Epoch 58/100\n",
            "23/23 - 0s - loss: 2.6788e-05\n",
            "Epoch 59/100\n",
            "23/23 - 0s - loss: 2.1600e-05\n",
            "Epoch 60/100\n",
            "23/23 - 0s - loss: 1.7999e-05\n",
            "Epoch 61/100\n",
            "23/23 - 0s - loss: 1.5309e-05\n",
            "Epoch 62/100\n",
            "23/23 - 0s - loss: 1.2973e-05\n",
            "Epoch 63/100\n",
            "23/23 - 0s - loss: 1.0786e-05\n",
            "Epoch 64/100\n",
            "23/23 - 0s - loss: 9.3095e-06\n",
            "Epoch 65/100\n",
            "23/23 - 0s - loss: 7.7947e-06\n",
            "Epoch 66/100\n",
            "23/23 - 0s - loss: 6.6996e-06\n",
            "Epoch 67/100\n",
            "23/23 - 0s - loss: 5.7551e-06\n",
            "Epoch 68/100\n",
            "23/23 - 0s - loss: 4.9910e-06\n",
            "Epoch 69/100\n",
            "23/23 - 0s - loss: 4.1559e-06\n",
            "Epoch 70/100\n",
            "23/23 - 0s - loss: 2.6311e-06\n",
            "Epoch 71/100\n",
            "23/23 - 0s - loss: 1.6975e-06\n",
            "Epoch 72/100\n",
            "23/23 - 0s - loss: 1.4776e-06\n",
            "Epoch 73/100\n",
            "23/23 - 0s - loss: 1.4524e-06\n",
            "Epoch 74/100\n",
            "23/23 - 0s - loss: 1.4248e-06\n",
            "Epoch 75/100\n",
            "23/23 - 0s - loss: 1.3300e-06\n",
            "Epoch 76/100\n",
            "23/23 - 0s - loss: 1.2988e-06\n",
            "Epoch 77/100\n",
            "23/23 - 0s - loss: 1.2558e-06\n",
            "Epoch 78/100\n",
            "23/23 - 0s - loss: 1.1958e-06\n",
            "Epoch 79/100\n",
            "23/23 - 0s - loss: 1.1637e-06\n",
            "Epoch 80/100\n",
            "23/23 - 0s - loss: 1.1293e-06\n",
            "Epoch 81/100\n",
            "23/23 - 0s - loss: 1.1128e-06\n",
            "Epoch 82/100\n",
            "23/23 - 0s - loss: 1.0879e-06\n",
            "Epoch 83/100\n",
            "23/23 - 0s - loss: 1.0558e-06\n",
            "Epoch 84/100\n",
            "23/23 - 0s - loss: 1.0122e-06\n",
            "Epoch 85/100\n",
            "23/23 - 0s - loss: 1.0105e-06\n",
            "Epoch 86/100\n",
            "23/23 - 0s - loss: 9.7078e-07\n",
            "Epoch 87/100\n",
            "23/23 - 0s - loss: 9.5943e-07\n",
            "Epoch 88/100\n",
            "23/23 - 0s - loss: 9.4044e-07\n",
            "Epoch 89/100\n",
            "23/23 - 0s - loss: 9.2320e-07\n",
            "Epoch 90/100\n",
            "23/23 - 0s - loss: 8.9935e-07\n",
            "Epoch 91/100\n",
            "23/23 - 0s - loss: 8.7236e-07\n",
            "Epoch 92/100\n",
            "23/23 - 0s - loss: 8.5724e-07\n",
            "Epoch 93/100\n",
            "23/23 - 0s - loss: 8.3705e-07\n",
            "Epoch 94/100\n",
            "23/23 - 0s - loss: 8.4714e-07\n",
            "Epoch 95/100\n",
            "23/23 - 0s - loss: 8.0127e-07\n",
            "Epoch 96/100\n",
            "23/23 - 0s - loss: 7.7275e-07\n",
            "Epoch 97/100\n",
            "23/23 - 0s - loss: 7.8333e-07\n",
            "Epoch 98/100\n",
            "23/23 - 0s - loss: 7.5852e-07\n",
            "Epoch 99/100\n",
            "23/23 - 0s - loss: 7.2729e-07\n",
            "Epoch 100/100\n",
            "23/23 - 0s - loss: 7.1892e-07\n"
          ],
          "name": "stdout"
        }
      ]
    },
    {
      "cell_type": "code",
      "metadata": {
        "colab": {
          "base_uri": "https://localhost:8080/",
          "height": 281
        },
        "id": "ciKR96h177Rv",
        "outputId": "71d101b3-210d-4a4b-90eb-b9ae26e38ca6"
      },
      "source": [
        "plt.plot(history.history['loss'])\n",
        "plt.title('LSTM Model Training Loss')\n",
        "plt.savefig('LSTMModel TrainingLoss.png')"
      ],
      "execution_count": 39,
      "outputs": [
        {
          "output_type": "display_data",
          "data": {
            "image/png": "[encoded data removed]",
            "text/plain": [
              "<Figure size 432x288 with 1 Axes>"
            ]
          },
          "metadata": {
            "tags": [],
            "needs_background": "light"
          }
        }
      ]
    },
    {
      "cell_type": "code",
      "metadata": {
        "id": "7gJkx7649et2"
      },
      "source": [
        "x_test=X_test_scaled\n",
        "x_test=np.reshape(x_test,(x_test.shape[0],1,x_test.shape[1]))\n"
      ],
      "execution_count": 40,
      "outputs": []
    },
    {
      "cell_type": "code",
      "metadata": {
        "id": "HWqy0bfc96Ov"
      },
      "source": [
        "y_pred = model.predict(x_test)\n",
        "y_pred_rescaled = Target_scaler.inverse_transform(y_pred)"
      ],
      "execution_count": 41,
      "outputs": []
    },
    {
      "cell_type": "code",
      "metadata": {
        "id": "HmQkSN8P_aWe"
      },
      "source": [
        "y_actual = pd.DataFrame(y_test_rescaled, columns=['Actual Value Population'])\n",
        "y_hat = pd.DataFrame(y_pred_rescaled, columns=['Predicted Value Population'])"
      ],
      "execution_count": 42,
      "outputs": []
    },
    {
      "cell_type": "code",
      "metadata": {
        "colab": {
          "base_uri": "https://localhost:8080/",
          "height": 385
        },
        "id": "wW1ZILcq8QDI",
        "outputId": "074f90e7-00c0-43b3-e4fa-64b40de7a134"
      },
      "source": [
        "plt.figure(figsize=(11, 6))\n",
        "plt.plot(y_actual, linestyle='solid', color='r')\n",
        "plt.plot(y_hat, linestyle='dashed', color='b')\n",
        "\n",
        "plt.legend(['Actual Value Population','Predicted Value Population'], loc='best', prop={'size': 14})\n",
        "# plt.title('Bitcoin Stock Closing Prices', weight='bold', fontsize=16)\n",
        "plt.ylabel('Value', weight='bold', fontsize=14)\n",
        "# plt.xlabel('Test Set Day no.', weight='bold', fontsize=14)\n",
        "plt.xticks(weight='bold', fontsize=12, rotation=45)\n",
        "plt.yticks(weight='bold', fontsize=12)\n",
        "plt.grid(color = 'y', linewidth='0.5')\n",
        "plt.show()"
      ],
      "execution_count": 43,
      "outputs": [
        {
          "output_type": "display_data",
          "data": {
            "image/png": "[encoded data removed]",
            "text/plain": [
              "<Figure size 792x432 with 1 Axes>"
            ]
          },
          "metadata": {
            "tags": [],
            "needs_background": "light"
          }
        }
      ]
    },
    {
      "cell_type": "code",
      "metadata": {
        "id": "r_LrPL3N9zhI"
      },
      "source": [
        "model = keras.Sequential([\n",
        "    keras.layers.LSTM(48,input_shape=(1,4),activation='relu',return_sequences=True),\n",
        "    keras.layers.LSTM(48,activation='relu'),\n",
        "    keras.layers.Dense(2)\n",
        "])"
      ],
      "execution_count": 44,
      "outputs": []
    },
    {
      "cell_type": "code",
      "metadata": {
        "colab": {
          "base_uri": "https://localhost:8080/"
        },
        "id": "J3Pg-UurAOC2",
        "outputId": "a7e513e4-84a7-4eb4-dd99-08f17502dffa"
      },
      "source": [
        "model.compile(loss='mse',optimizer='adam')\n",
        "model.summary()"
      ],
      "execution_count": 45,
      "outputs": [
        {
          "output_type": "stream",
          "text": [
            "Model: \"sequential_1\"\n",
            "_________________________________________________________________\n",
            "Layer (type)                 Output Shape              Param #   \n",
            "=================================================================\n",
            "lstm_2 (LSTM)                (None, 1, 48)             10176     \n",
            "_________________________________________________________________\n",
            "lstm_3 (LSTM)                (None, 48)                18624     \n",
            "_________________________________________________________________\n",
            "dense_7 (Dense)              (None, 2)                 98        \n",
            "=================================================================\n",
            "Total params: 28,898\n",
            "Trainable params: 28,898\n",
            "Non-trainable params: 0\n",
            "_________________________________________________________________\n"
          ],
          "name": "stdout"
        }
      ]
    },
    {
      "cell_type": "code",
      "metadata": {
        "colab": {
          "base_uri": "https://localhost:8080/"
        },
        "id": "edraPQ_SAUt2",
        "outputId": "ba4e8373-2018-4a50-fae6-ada1d31197c5"
      },
      "source": [
        "history = model.fit(x_train,y_train,epochs=100,batch_size=32,callbacks=[callback],verbose=2)"
      ],
      "execution_count": 46,
      "outputs": [
        {
          "output_type": "stream",
          "text": [
            "Epoch 1/100\n",
            "23/23 - 2s - loss: 0.3027\n",
            "Epoch 2/100\n",
            "23/23 - 0s - loss: 0.2476\n",
            "Epoch 3/100\n",
            "23/23 - 0s - loss: 0.1521\n",
            "Epoch 4/100\n",
            "23/23 - 0s - loss: 0.0370\n",
            "Epoch 5/100\n",
            "23/23 - 0s - loss: 0.0073\n",
            "Epoch 6/100\n",
            "23/23 - 0s - loss: 0.0052\n",
            "Epoch 7/100\n",
            "23/23 - 0s - loss: 0.0044\n",
            "Epoch 8/100\n",
            "23/23 - 0s - loss: 0.0039\n",
            "Epoch 9/100\n",
            "23/23 - 0s - loss: 0.0035\n",
            "Epoch 10/100\n",
            "23/23 - 0s - loss: 0.0032\n",
            "Epoch 11/100\n",
            "23/23 - 0s - loss: 0.0031\n",
            "Epoch 12/100\n",
            "23/23 - 0s - loss: 0.0029\n",
            "Epoch 13/100\n",
            "23/23 - 0s - loss: 0.0028\n",
            "Epoch 14/100\n",
            "23/23 - 0s - loss: 0.0028\n",
            "Epoch 15/100\n",
            "23/23 - 0s - loss: 0.0027\n",
            "Epoch 16/100\n",
            "23/23 - 0s - loss: 0.0026\n",
            "Epoch 17/100\n",
            "23/23 - 0s - loss: 0.0026\n",
            "Epoch 18/100\n",
            "23/23 - 0s - loss: 0.0025\n",
            "Epoch 19/100\n",
            "23/23 - 0s - loss: 0.0025\n",
            "Epoch 20/100\n",
            "23/23 - 0s - loss: 0.0024\n",
            "Epoch 21/100\n",
            "23/23 - 0s - loss: 0.0024\n",
            "Epoch 22/100\n",
            "23/23 - 0s - loss: 0.0023\n",
            "Epoch 23/100\n",
            "23/23 - 0s - loss: 0.0022\n",
            "Epoch 24/100\n",
            "23/23 - 0s - loss: 0.0022\n",
            "Epoch 25/100\n",
            "23/23 - 0s - loss: 0.0021\n",
            "Epoch 26/100\n",
            "23/23 - 0s - loss: 0.0020\n",
            "Epoch 27/100\n",
            "23/23 - 0s - loss: 0.0020\n",
            "Epoch 28/100\n",
            "23/23 - 0s - loss: 0.0019\n",
            "Epoch 29/100\n",
            "23/23 - 0s - loss: 0.0019\n",
            "Epoch 30/100\n",
            "23/23 - 0s - loss: 0.0018\n",
            "Epoch 31/100\n",
            "23/23 - 0s - loss: 0.0016\n",
            "Epoch 32/100\n",
            "23/23 - 0s - loss: 0.0015\n",
            "Epoch 33/100\n",
            "23/23 - 0s - loss: 0.0014\n",
            "Epoch 34/100\n",
            "23/23 - 0s - loss: 0.0013\n",
            "Epoch 35/100\n",
            "23/23 - 0s - loss: 0.0012\n",
            "Epoch 36/100\n",
            "23/23 - 0s - loss: 0.0011\n",
            "Epoch 37/100\n",
            "23/23 - 0s - loss: 0.0010\n",
            "Epoch 38/100\n",
            "23/23 - 0s - loss: 9.2905e-04\n",
            "Epoch 39/100\n",
            "23/23 - 0s - loss: 8.3188e-04\n",
            "Epoch 40/100\n",
            "23/23 - 0s - loss: 7.4046e-04\n",
            "Epoch 41/100\n",
            "23/23 - 0s - loss: 6.6118e-04\n",
            "Epoch 42/100\n",
            "23/23 - 0s - loss: 5.8491e-04\n",
            "Epoch 43/100\n",
            "23/23 - 0s - loss: 5.1385e-04\n",
            "Epoch 44/100\n",
            "23/23 - 0s - loss: 4.4673e-04\n",
            "Epoch 45/100\n",
            "23/23 - 0s - loss: 3.8931e-04\n",
            "Epoch 46/100\n",
            "23/23 - 0s - loss: 3.4040e-04\n",
            "Epoch 47/100\n",
            "23/23 - 0s - loss: 3.0038e-04\n",
            "Epoch 48/100\n",
            "23/23 - 0s - loss: 2.6299e-04\n",
            "Epoch 49/100\n",
            "23/23 - 0s - loss: 2.3304e-04\n",
            "Epoch 50/100\n",
            "23/23 - 0s - loss: 2.0625e-04\n",
            "Epoch 51/100\n",
            "23/23 - 0s - loss: 1.8569e-04\n",
            "Epoch 52/100\n",
            "23/23 - 0s - loss: 1.7110e-04\n",
            "Epoch 53/100\n",
            "23/23 - 0s - loss: 1.5701e-04\n",
            "Epoch 54/100\n",
            "23/23 - 0s - loss: 1.4398e-04\n",
            "Epoch 55/100\n",
            "23/23 - 0s - loss: 1.3385e-04\n",
            "Epoch 56/100\n",
            "23/23 - 0s - loss: 1.2851e-04\n",
            "Epoch 57/100\n",
            "23/23 - 0s - loss: 1.2120e-04\n",
            "Epoch 58/100\n",
            "23/23 - 0s - loss: 1.1258e-04\n",
            "Epoch 59/100\n",
            "23/23 - 0s - loss: 1.0620e-04\n",
            "Epoch 60/100\n",
            "23/23 - 0s - loss: 1.0673e-04\n",
            "Epoch 61/100\n",
            "23/23 - 0s - loss: 1.0041e-04\n",
            "Epoch 62/100\n",
            "23/23 - 0s - loss: 9.1204e-05\n",
            "Epoch 63/100\n",
            "23/23 - 0s - loss: 8.8666e-05\n",
            "Epoch 64/100\n",
            "23/23 - 0s - loss: 8.4560e-05\n",
            "Epoch 65/100\n",
            "23/23 - 0s - loss: 8.3625e-05\n",
            "Epoch 66/100\n",
            "23/23 - 0s - loss: 7.8287e-05\n",
            "Epoch 67/100\n",
            "23/23 - 0s - loss: 7.4599e-05\n",
            "Epoch 68/100\n",
            "23/23 - 0s - loss: 7.3552e-05\n",
            "Epoch 69/100\n",
            "23/23 - 0s - loss: 6.8484e-05\n",
            "Epoch 70/100\n",
            "23/23 - 0s - loss: 6.5255e-05\n",
            "Epoch 71/100\n",
            "23/23 - 0s - loss: 6.2115e-05\n",
            "Epoch 72/100\n",
            "23/23 - 0s - loss: 6.0183e-05\n",
            "Epoch 73/100\n",
            "23/23 - 0s - loss: 5.9781e-05\n",
            "Epoch 74/100\n",
            "23/23 - 0s - loss: 5.4506e-05\n",
            "Epoch 75/100\n",
            "23/23 - 0s - loss: 5.1365e-05\n",
            "Epoch 76/100\n",
            "23/23 - 0s - loss: 5.1299e-05\n",
            "Epoch 77/100\n",
            "23/23 - 0s - loss: 4.7695e-05\n",
            "Epoch 78/100\n",
            "23/23 - 0s - loss: 4.5077e-05\n",
            "Epoch 79/100\n",
            "23/23 - 0s - loss: 4.4147e-05\n",
            "Epoch 80/100\n",
            "23/23 - 0s - loss: 4.0973e-05\n",
            "Epoch 81/100\n",
            "23/23 - 0s - loss: 3.8473e-05\n",
            "Epoch 82/100\n",
            "23/23 - 0s - loss: 3.6987e-05\n",
            "Epoch 83/100\n",
            "23/23 - 0s - loss: 3.5698e-05\n",
            "Epoch 84/100\n",
            "23/23 - 0s - loss: 3.3865e-05\n",
            "Epoch 85/100\n",
            "23/23 - 0s - loss: 3.4351e-05\n",
            "Epoch 86/100\n",
            "23/23 - 0s - loss: 3.1789e-05\n",
            "Epoch 87/100\n",
            "23/23 - 0s - loss: 2.9273e-05\n",
            "Epoch 88/100\n",
            "23/23 - 0s - loss: 2.8246e-05\n",
            "Epoch 89/100\n",
            "23/23 - 0s - loss: 2.8671e-05\n",
            "Epoch 90/100\n",
            "23/23 - 0s - loss: 2.5718e-05\n",
            "Epoch 91/100\n",
            "23/23 - 0s - loss: 2.4699e-05\n",
            "Epoch 92/100\n",
            "23/23 - 0s - loss: 2.5216e-05\n",
            "Epoch 93/100\n",
            "23/23 - 0s - loss: 2.3333e-05\n",
            "Epoch 94/100\n",
            "23/23 - 0s - loss: 2.1705e-05\n",
            "Epoch 95/100\n",
            "23/23 - 0s - loss: 2.1097e-05\n",
            "Epoch 96/100\n",
            "23/23 - 0s - loss: 2.0312e-05\n",
            "Epoch 97/100\n",
            "23/23 - 0s - loss: 1.9323e-05\n",
            "Epoch 98/100\n",
            "23/23 - 0s - loss: 1.8454e-05\n",
            "Epoch 99/100\n",
            "23/23 - 0s - loss: 1.7365e-05\n",
            "Epoch 100/100\n",
            "23/23 - 0s - loss: 1.7466e-05\n"
          ],
          "name": "stdout"
        }
      ]
    },
    {
      "cell_type": "code",
      "metadata": {
        "colab": {
          "base_uri": "https://localhost:8080/",
          "height": 281
        },
        "id": "MQbJ1gxaAVP-",
        "outputId": "d244a231-4b74-4576-bf03-a3c7cc815ba5"
      },
      "source": [
        "plt.plot(history.history['loss'])\n",
        "plt.title('LSTM Model Training Loss')\n",
        "plt.savefig('LSTMModel TrainingLoss.png')"
      ],
      "execution_count": 47,
      "outputs": [
        {
          "output_type": "display_data",
          "data": {
            "image/png": "[encoded data removed]",
            "text/plain": [
              "<Figure size 432x288 with 1 Axes>"
            ]
          },
          "metadata": {
            "tags": [],
            "needs_background": "light"
          }
        }
      ]
    },
    {
      "cell_type": "code",
      "metadata": {
        "id": "IJlT8dNFAaPV"
      },
      "source": [
        "y_pred = model.predict(x_test)\n",
        "y_pred_rescaled = Target_scaler.inverse_transform(y_pred)\n",
        "y_actual2 = pd.DataFrame(y_test_rescaled, columns=['Actual Value Population'])\n",
        "#y_hat = pd.DataFrame(y_pred_rescaled, columns=['Predicted Value Population'])"
      ],
      "execution_count": 48,
      "outputs": []
    },
    {
      "cell_type": "code",
      "metadata": {
        "colab": {
          "base_uri": "https://localhost:8080/",
          "height": 385
        },
        "id": "6-eGedMSAksq",
        "outputId": "1ad5df0b-e77a-4da0-b701-fc012be41e2d"
      },
      "source": [
        "plt.figure(figsize=(11, 6))\n",
        "plt.plot(y_actual2, linestyle='solid', color='r')\n",
        "plt.plot(y_hat, linestyle='dashed', color='b')\n",
        "\n",
        "plt.legend(['Actual Value Population','Predicted Value Population'], loc='best', prop={'size': 14})\n",
        "# plt.title('Bitcoin Stock Closing Prices', weight='bold', fontsize=16)\n",
        "plt.ylabel('Value', weight='bold', fontsize=14)\n",
        "# plt.xlabel('Test Set Day no.', weight='bold', fontsize=14)\n",
        "plt.xticks(weight='bold', fontsize=12, rotation=45)\n",
        "plt.yticks(weight='bold', fontsize=12)\n",
        "plt.grid(color = 'y', linewidth='0.5')\n",
        "plt.show()"
      ],
      "execution_count": 49,
      "outputs": [
        {
          "output_type": "display_data",
          "data": {
            "image/png": "[encoded data removed]",
            "text/plain": [
              "<Figure size 792x432 with 1 Axes>"
            ]
          },
          "metadata": {
            "tags": [],
            "needs_background": "light"
          }
        }
      ]
    },
    {
      "cell_type": "markdown",
      "metadata": {
        "id": "GUv5MxIkIxhV"
      },
      "source": [
        "**Dự đoán tương lại n=1,2,3,..(tháng)**"
      ]
    },
    {
      "cell_type": "code",
      "metadata": {
        "id": "thUmIeZ2I4eD"
      },
      "source": [
        "def reshape2(d):\n",
        "  d = np.array(d)\n",
        "  d = np.reshape(d,(d.shape[0],1,d.shape[1]))\n",
        "  return d"
      ],
      "execution_count": 50,
      "outputs": []
    },
    {
      "cell_type": "code",
      "metadata": {
        "id": "T1b6J1XHJCLy"
      },
      "source": [
        "def split_sequence(sequence, n_steps=4):\n",
        "    sequence = list(sequence)\n",
        "    X, y = list(), list()\n",
        "    for i in range(len(sequence)):\n",
        "        # find the end of this pattern\n",
        "        end_ix = i + n_steps\n",
        "        # check if we are beyond the sequence\n",
        "        if end_ix > len(sequence)-1:\n",
        "            break\n",
        "        # gather input and output parts of the pattern\n",
        "        seq_x, seq_y = sequence[i:end_ix], sequence[end_ix]\n",
        "        X.append(seq_x)\n",
        "        y.append(seq_y)\n",
        "    return reshape2(X), np.array(y)"
      ],
      "execution_count": 51,
      "outputs": []
    },
    {
      "cell_type": "code",
      "metadata": {
        "colab": {
          "base_uri": "https://localhost:8080/"
        },
        "id": "yzvhZF7uJIRV",
        "outputId": "d55aee9a-774d-401c-c00e-5156a22d1612"
      },
      "source": [
        "train_data = df_new.value.iloc[:700]\n",
        "test_data = df_new.value.iloc[700:]\n",
        "len(train_data)"
      ],
      "execution_count": 53,
      "outputs": [
        {
          "output_type": "execute_result",
          "data": {
            "text/plain": [
              "700"
            ]
          },
          "metadata": {
            "tags": []
          },
          "execution_count": 53
        }
      ]
    },
    {
      "cell_type": "code",
      "metadata": {
        "colab": {
          "base_uri": "https://localhost:8080/"
        },
        "id": "iPk_awcKJO2_",
        "outputId": "99987413-3dcf-4262-9841-1ae8a7f785b1"
      },
      "source": [
        "x_train,y_train = split_sequence(train_data)\n",
        "x_test,y_test = split_sequence(test_data)\n",
        "x_train.shape"
      ],
      "execution_count": 54,
      "outputs": [
        {
          "output_type": "execute_result",
          "data": {
            "text/plain": [
              "(696, 1, 4)"
            ]
          },
          "metadata": {
            "tags": []
          },
          "execution_count": 54
        }
      ]
    },
    {
      "cell_type": "code",
      "metadata": {
        "id": "mz3DkeDlJZJX"
      },
      "source": [
        "model = keras.Sequential([\n",
        "    keras.layers.LSTM(128,input_shape=(1,4),activation='relu',return_sequences=True),\n",
        "    keras.layers.LSTM(64,activation='relu'),\n",
        "    keras.layers.Dense(1)\n",
        "])"
      ],
      "execution_count": 55,
      "outputs": []
    },
    {
      "cell_type": "code",
      "metadata": {
        "colab": {
          "base_uri": "https://localhost:8080/"
        },
        "id": "iPxMOFsVJco1",
        "outputId": "9c2822dc-536b-46ff-eda7-5b62c92ff044"
      },
      "source": [
        "model.compile(loss='mse',optimizer='adam')\n",
        "model.summary()"
      ],
      "execution_count": 56,
      "outputs": [
        {
          "output_type": "stream",
          "text": [
            "Model: \"sequential_2\"\n",
            "_________________________________________________________________\n",
            "Layer (type)                 Output Shape              Param #   \n",
            "=================================================================\n",
            "lstm_4 (LSTM)                (None, 1, 128)            68096     \n",
            "_________________________________________________________________\n",
            "lstm_5 (LSTM)                (None, 64)                49408     \n",
            "_________________________________________________________________\n",
            "dense_8 (Dense)              (None, 1)                 65        \n",
            "=================================================================\n",
            "Total params: 117,569\n",
            "Trainable params: 117,569\n",
            "Non-trainable params: 0\n",
            "_________________________________________________________________\n"
          ],
          "name": "stdout"
        }
      ]
    },
    {
      "cell_type": "code",
      "metadata": {
        "colab": {
          "base_uri": "https://localhost:8080/"
        },
        "id": "NkyVhTQqJheH",
        "outputId": "cae686cc-3014-4552-ee85-8e422bf4b77a"
      },
      "source": [
        "history = model.fit(x_train,y_train,epochs=100,batch_size=32,callbacks=[callback],verbose=2)"
      ],
      "execution_count": 57,
      "outputs": [
        {
          "output_type": "stream",
          "text": [
            "Epoch 1/100\n",
            "22/22 - 3s - loss: 54022320128.0000\n",
            "Epoch 2/100\n",
            "22/22 - 0s - loss: 48576909312.0000\n",
            "Epoch 3/100\n",
            "22/22 - 0s - loss: 42089287680.0000\n",
            "Epoch 4/100\n",
            "22/22 - 0s - loss: 32696932352.0000\n",
            "Epoch 5/100\n",
            "22/22 - 0s - loss: 18974244864.0000\n",
            "Epoch 6/100\n",
            "22/22 - 0s - loss: 5618920448.0000\n",
            "Epoch 7/100\n",
            "22/22 - 0s - loss: 362509440.0000\n",
            "Epoch 8/100\n",
            "22/22 - 0s - loss: 21737528.0000\n",
            "Epoch 9/100\n",
            "22/22 - 0s - loss: 1376289.7500\n",
            "Epoch 10/100\n",
            "22/22 - 0s - loss: 152183.3594\n",
            "Epoch 11/100\n",
            "22/22 - 0s - loss: 30428.5859\n",
            "Epoch 12/100\n",
            "22/22 - 0s - loss: 18171.3672\n",
            "Epoch 13/100\n",
            "22/22 - 0s - loss: 16836.2363\n",
            "Epoch 14/100\n",
            "22/22 - 0s - loss: 16767.3730\n",
            "Epoch 15/100\n",
            "22/22 - 0s - loss: 16760.9746\n",
            "Epoch 16/100\n",
            "22/22 - 0s - loss: 16727.4883\n",
            "Epoch 17/100\n",
            "22/22 - 0s - loss: 16749.8887\n",
            "Epoch 18/100\n",
            "22/22 - 0s - loss: 16799.9883\n",
            "Epoch 19/100\n",
            "22/22 - 0s - loss: 16769.7832\n"
          ],
          "name": "stdout"
        }
      ]
    },
    {
      "cell_type": "code",
      "metadata": {
        "colab": {
          "base_uri": "https://localhost:8080/",
          "height": 281
        },
        "id": "mjvCLvZWJ0BW",
        "outputId": "384ce669-d682-40b7-dde5-3e22a7959971"
      },
      "source": [
        "plt.plot(history.history['loss'])\n",
        "plt.title('LSTM Model Training Loss')\n",
        "plt.savefig('LSTM Model TrainingLoss.png')"
      ],
      "execution_count": 58,
      "outputs": [
        {
          "output_type": "display_data",
          "data": {
            "image/png": "[encoded data removed]",
            "text/plain": [
              "<Figure size 432x288 with 1 Axes>"
            ]
          },
          "metadata": {
            "tags": [],
            "needs_background": "light"
          }
        }
      ]
    },
    {
      "cell_type": "code",
      "metadata": {
        "colab": {
          "base_uri": "https://localhost:8080/",
          "height": 319
        },
        "id": "z4lsvgoWJjEa",
        "outputId": "6fe7dbd8-bd37-4173-e81f-657368fb5af9"
      },
      "source": [
        "plt.plot(model.predict(x_test),label='Prediction')\n",
        "plt.plot(y_test,label='Actual')\n",
        "plt.legend()\n",
        "plt.title('Prediction Demonstration (Test)')\n",
        "plt.savefig('PredictionDemonstration-Test.png')"
      ],
      "execution_count": 59,
      "outputs": [
        {
          "output_type": "stream",
          "text": [
            "WARNING:tensorflow:5 out of the last 9 calls to <function Model.make_predict_function.<locals>.predict_function at 0x7f2898140ef0> triggered tf.function retracing. Tracing is expensive and the excessive number of tracings could be due to (1) creating @tf.function repeatedly in a loop, (2) passing tensors with different shapes, (3) passing Python objects instead of tensors. For (1), please define your @tf.function outside of the loop. For (2), @tf.function has experimental_relax_shapes=True option that relaxes argument shapes that can avoid unnecessary retracing. For (3), please refer to https://www.tensorflow.org/guide/function#controlling_retracing and https://www.tensorflow.org/api_docs/python/tf/function for  more details.\n"
          ],
          "name": "stdout"
        },
        {
          "output_type": "display_data",
          "data": {
            "image/png": "[encoded data removed]",
            "text/plain": [
              "<Figure size 432x288 with 1 Axes>"
            ]
          },
          "metadata": {
            "tags": [],
            "needs_background": "light"
          }
        }
      ]
    },
    {
      "cell_type": "code",
      "metadata": {
        "id": "hnDaGDYhJwFo"
      },
      "source": [
        "def predict_future(shift_count):\n",
        "    def reshape(three):\n",
        "        return np.array(three).reshape(1,1,4) \n",
        "    array =  list(df_new.value) + []\n",
        "    now = len(df_new)-4\n",
        "    last = len(df_new)\n",
        "    for _ in range(shift_count):\n",
        "        converted = reshape(array[now:last])\n",
        "        array.append(model.predict(converted)[0][0])\n",
        "        now += 1\n",
        "        last += 1\n",
        "    return array"
      ],
      "execution_count": 60,
      "outputs": []
    },
    {
      "cell_type": "code",
      "metadata": {
        "id": "XrrrNqAdK5iE"
      },
      "source": [
        "n=36"
      ],
      "execution_count": 61,
      "outputs": []
    },
    {
      "cell_type": "code",
      "metadata": {
        "id": "6iDoPcvzKYqr"
      },
      "source": [
        "future_prediction = predict_future(n)\n"
      ],
      "execution_count": 62,
      "outputs": []
    },
    {
      "cell_type": "code",
      "metadata": {
        "colab": {
          "base_uri": "https://localhost:8080/",
          "height": 337
        },
        "id": "mMrCCBvDKaKy",
        "outputId": "097dcf1f-9b51-4db4-844f-a18e97e50ca4"
      },
      "source": [
        "plt.figure(figsize=(10,5))\n",
        "plt.plot(future_prediction[len(future_prediction)-n:],'--',label='Prediction')\n",
        "#plt.plot(df_new.value,label='Actual Data',alpha=0.7)\n",
        "plt.title('Dự đoán dân số theo n tháng')\n",
        "plt.legend();\n",
        "plt.savefig('Result.png')"
      ],
      "execution_count": 63,
      "outputs": [
        {
          "output_type": "display_data",
          "data": {
            "image/png": "[encoded data removed]",
            "text/plain": [
              "<Figure size 720x360 with 1 Axes>"
            ]
          },
          "metadata": {
            "tags": [],
            "needs_background": "light"
          }
        }
      ]
    },
    {
      "cell_type": "code",
      "metadata": {
        "colab": {
          "base_uri": "https://localhost:8080/"
        },
        "id": "Psx2t21OKi39",
        "outputId": "e82514f7-cf23-4067-e812-83ad2a555c15"
      },
      "source": [
        "future_prediction[len(future_prediction)-1]"
      ],
      "execution_count": 65,
      "outputs": [
        {
          "output_type": "execute_result",
          "data": {
            "text/plain": [
              "341505.12"
            ]
          },
          "metadata": {
            "tags": []
          },
          "execution_count": 65
        }
      ]
    },
    {
      "cell_type": "code",
      "metadata": {
        "id": "8XDon_7cL3Xf"
      },
      "source": [
        ""
      ],
      "execution_count": null,
      "outputs": []
    }
  ]
}